{
 "cells": [
  {
   "cell_type": "markdown",
   "metadata": {},
   "source": [
    "# Running ImageJ.JS in a notebook"
   ]
  },
  {
   "cell_type": "code",
   "execution_count": null,
   "metadata": {},
   "outputs": [],
   "source": [
    "!pip install -U imjoy imageio numpy"
   ]
  },
  {
   "cell_type": "code",
   "execution_count": 1,
   "metadata": {},
   "outputs": [
    {
     "data": {
      "application/javascript": [
       "window.connectPlugin && window.connectPlugin()"
      ],
      "text/plain": [
       "<IPython.core.display.Javascript object>"
      ]
     },
     "metadata": {},
     "output_type": "display_data"
    },
    {
     "data": {
      "text/html": [
       "<div id=\"616a925d-5ab7-4395-8870-74f9446aea8a\"></div>"
      ],
      "text/plain": [
       "<IPython.core.display.HTML object>"
      ]
     },
     "metadata": {},
     "output_type": "display_data"
    }
   ],
   "source": [
    "from imjoy import api\n",
    "import numpy as np\n",
    "import imageio\n",
    "class ImJoyPlugin():\n",
    "    async def setup(self):\n",
    "        pass\n",
    "    \n",
    "    def sayHello(self):\n",
    "        api.alert('Hello')\n",
    "        \n",
    "    async def run(self, ctx):\n",
    "        w = await api.createWindow(src=\"https://ij.imjoy.io/\")\n",
    "        image = imageio.imread(\"https://images.proteinatlas.org/115/672_E2_1_blue_red_green.jpg\")\n",
    "\n",
    "        await w.addImage(image, name=\"my-image\")\n",
    "        \n",
    "        await w.addMenuItem({\"label\": \"Say Hello\", \"callback\": self.sayHello})\n",
    "\n",
    "api.export(ImJoyPlugin())"
   ]
  },
  {
   "cell_type": "code",
   "execution_count": null,
   "metadata": {},
   "outputs": [],
   "source": []
  }
 ],
 "metadata": {
  "kernelspec": {
   "display_name": "Python 3",
   "language": "python",
   "name": "python3"
  },
  "language_info": {
   "codemirror_mode": {
    "name": "ipython",
    "version": 3
   },
   "file_extension": ".py",
   "mimetype": "text/x-python",
   "name": "python",
   "nbconvert_exporter": "python",
   "pygments_lexer": "ipython3",
   "version": "3.7.8"
  }
 },
 "nbformat": 4,
 "nbformat_minor": 2
}
